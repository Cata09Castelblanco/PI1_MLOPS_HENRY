{
 "cells": [
  {
   "cell_type": "markdown",
   "metadata": {},
   "source": [
    "### **<p align=\"center\">🚧 Desarrollo Modelo Machine Learning 🚧</p>**"
   ]
  },
  {
   "cell_type": "markdown",
   "metadata": {},
   "source": [
    "Para la creacion del modelo de Machine Learning usaremos el metodo de vectorizador de texto para convertir texto en vectores numericos. en este caso se tratara la columna specs. "
   ]
  },
  {
   "cell_type": "markdown",
   "metadata": {},
   "source": [
    "- el vectorizador asigna un numero a cada palabra unica presente en el texto y cuenta la frecuencia. \n",
    "- esta proceso es necesario para calcular la similitud del coseno ya que el mismo trabaja con vectores numericos"
   ]
  },
  {
   "cell_type": "markdown",
   "metadata": {},
   "source": [
    "importacion de librerias necesarias:"
   ]
  },
  {
   "cell_type": "code",
   "execution_count": 1,
   "metadata": {},
   "outputs": [],
   "source": [
    "import pandas as pd\n",
    "import matplotlib.pyplot as plt\n",
    "import seaborn as sns \n",
    "import ast\n",
    "from sklearn.metrics.pairwise import cosine_similarity\n",
    "import numpy as np"
   ]
  },
  {
   "cell_type": "markdown",
   "metadata": {},
   "source": [
    "lectura del DataSet"
   ]
  },
  {
   "cell_type": "code",
   "execution_count": 2,
   "metadata": {},
   "outputs": [],
   "source": [
    "df_games = pd.read_csv(r'DataApi/df_games.csv')"
   ]
  },
  {
   "cell_type": "markdown",
   "metadata": {},
   "source": [
    "Preparacion de datos para el modelo:"
   ]
  },
  {
   "cell_type": "markdown",
   "metadata": {},
   "source": [
    "* eliminamos las columnas que quedaron pendientes en el proceso de ETL"
   ]
  },
  {
   "cell_type": "code",
   "execution_count": 3,
   "metadata": {},
   "outputs": [],
   "source": [
    "df_games.drop(columns = ['Unnamed: 0'], inplace = True)"
   ]
  },
  {
   "cell_type": "markdown",
   "metadata": {},
   "source": [
    "* Procedemos unicamente con las columnas que necesitamos"
   ]
  },
  {
   "cell_type": "code",
   "execution_count": 4,
   "metadata": {},
   "outputs": [],
   "source": [
    "df_games = df_games.loc[:, ['specs','app_name','id']]"
   ]
  },
  {
   "cell_type": "markdown",
   "metadata": {},
   "source": [
    "* Manejamos nulos que hayan quedado"
   ]
  },
  {
   "cell_type": "code",
   "execution_count": 5,
   "metadata": {},
   "outputs": [],
   "source": [
    "df_games.replace(['', 'null', 'None'], np.nan, inplace=True)"
   ]
  },
  {
   "cell_type": "code",
   "execution_count": 6,
   "metadata": {},
   "outputs": [
    {
     "data": {
      "text/html": [
       "<div>\n",
       "<style scoped>\n",
       "    .dataframe tbody tr th:only-of-type {\n",
       "        vertical-align: middle;\n",
       "    }\n",
       "\n",
       "    .dataframe tbody tr th {\n",
       "        vertical-align: top;\n",
       "    }\n",
       "\n",
       "    .dataframe thead th {\n",
       "        text-align: right;\n",
       "    }\n",
       "</style>\n",
       "<table border=\"1\" class=\"dataframe\">\n",
       "  <thead>\n",
       "    <tr style=\"text-align: right;\">\n",
       "      <th></th>\n",
       "      <th>specs</th>\n",
       "      <th>app_name</th>\n",
       "      <th>id</th>\n",
       "    </tr>\n",
       "  </thead>\n",
       "  <tbody>\n",
       "    <tr>\n",
       "      <th>74</th>\n",
       "      <td>NaN</td>\n",
       "      <td>NaN</td>\n",
       "      <td>NaN</td>\n",
       "    </tr>\n",
       "    <tr>\n",
       "      <th>30961</th>\n",
       "      <td>['Single-player', 'Steam Achievements', 'Steam...</td>\n",
       "      <td>Batman: Arkham City - Game of the Year Edition</td>\n",
       "      <td>NaN</td>\n",
       "    </tr>\n",
       "  </tbody>\n",
       "</table>\n",
       "</div>"
      ],
      "text/plain": [
       "                                                   specs  \\\n",
       "74                                                   NaN   \n",
       "30961  ['Single-player', 'Steam Achievements', 'Steam...   \n",
       "\n",
       "                                             app_name  id  \n",
       "74                                                NaN NaN  \n",
       "30961  Batman: Arkham City - Game of the Year Edition NaN  "
      ]
     },
     "execution_count": 6,
     "metadata": {},
     "output_type": "execute_result"
    }
   ],
   "source": [
    "df_games[df_games['id'].isna()]"
   ]
  },
  {
   "cell_type": "markdown",
   "metadata": {},
   "source": [
    "* elimino esas dos filas que contienen id nulos"
   ]
  },
  {
   "cell_type": "code",
   "execution_count": 7,
   "metadata": {},
   "outputs": [],
   "source": [
    "df_games = df_games.dropna(subset = ['id'])"
   ]
  },
  {
   "cell_type": "code",
   "execution_count": 8,
   "metadata": {},
   "outputs": [
    {
     "name": "stdout",
     "output_type": "stream",
     "text": [
      "<class 'pandas.core.frame.DataFrame'>\n",
      "Index: 32133 entries, 0 to 32134\n",
      "Data columns (total 3 columns):\n",
      " #   Column    Non-Null Count  Dtype  \n",
      "---  ------    --------------  -----  \n",
      " 0   specs     31464 non-null  object \n",
      " 1   app_name  32132 non-null  object \n",
      " 2   id        32133 non-null  float64\n",
      "dtypes: float64(1), object(2)\n",
      "memory usage: 1004.2+ KB\n"
     ]
    }
   ],
   "source": [
    "df_games.info()"
   ]
  },
  {
   "cell_type": "markdown",
   "metadata": {},
   "source": [
    "* ajusto el indice del DataFrame para que la funcion no arroje error por la diferencia en la cantidad de entradas"
   ]
  },
  {
   "cell_type": "code",
   "execution_count": 9,
   "metadata": {},
   "outputs": [
    {
     "name": "stdout",
     "output_type": "stream",
     "text": [
      "<class 'pandas.core.frame.DataFrame'>\n",
      "RangeIndex: 32133 entries, 0 to 32132\n",
      "Data columns (total 3 columns):\n",
      " #   Column    Non-Null Count  Dtype  \n",
      "---  ------    --------------  -----  \n",
      " 0   specs     31464 non-null  object \n",
      " 1   app_name  32132 non-null  object \n",
      " 2   id        32133 non-null  float64\n",
      "dtypes: float64(1), object(2)\n",
      "memory usage: 753.2+ KB\n",
      "None\n"
     ]
    }
   ],
   "source": [
    "total_filas = len(df_games)\n",
    "\n",
    "# Establecer un nuevo indice que va de 0 a total_filas - 1\n",
    "df_games.index = range(total_filas)\n",
    "\n",
    "# Mostrar información sobre el índice actualizado del DataFrame\n",
    "print(df_games.info())\n"
   ]
  },
  {
   "cell_type": "markdown",
   "metadata": {},
   "source": [
    "* cambio el tipo de dato de la columna id"
   ]
  },
  {
   "cell_type": "code",
   "execution_count": 10,
   "metadata": {},
   "outputs": [],
   "source": [
    "df_games['id'] = df_games['id'].astype(int)"
   ]
  },
  {
   "cell_type": "markdown",
   "metadata": {},
   "source": [
    "* arreglo specs:"
   ]
  },
  {
   "cell_type": "code",
   "execution_count": 11,
   "metadata": {},
   "outputs": [],
   "source": [
    "df_games['specs'] = df_games['specs'].apply(lambda x: str(x).replace('[', '').replace(']', '').replace(\"'\", ''))"
   ]
  },
  {
   "cell_type": "markdown",
   "metadata": {},
   "source": [
    "**Entrenamiento del modelo con modelo vectorizador**"
   ]
  },
  {
   "cell_type": "code",
   "execution_count": 12,
   "metadata": {},
   "outputs": [],
   "source": [
    "from sklearn.feature_extraction.text import CountVectorizer\n"
   ]
  },
  {
   "cell_type": "code",
   "execution_count": 13,
   "metadata": {},
   "outputs": [],
   "source": [
    "cv = CountVectorizer()\n",
    "vectores = cv.fit_transform(df_games['specs']).toarray()"
   ]
  },
  {
   "cell_type": "code",
   "execution_count": 14,
   "metadata": {},
   "outputs": [],
   "source": [
    "similitud = cosine_similarity(vectores)"
   ]
  },
  {
   "cell_type": "code",
   "execution_count": 15,
   "metadata": {},
   "outputs": [],
   "source": [
    "def recomendacion(juego):\n",
    "    indice_games = df_games[df_games['id'] == juego].index[0]\n",
    "\n",
    "    # calculo de similitudes\n",
    "    distan = similitud[indice_games]\n",
    "\n",
    "    # ordenamiento de distancias de manera descendente para seleccionar los 5 mas similares\n",
    "    lista_games = sorted(list(enumerate(distan)), reverse = True, key= lambda x: x[1])[1:6]\n",
    "    \n",
    "    recommend = [df_games.iloc[i[0]]['app_name'] for i in lista_games]\n",
    "\n",
    "    return recommend"
   ]
  },
  {
   "cell_type": "code",
   "execution_count": 16,
   "metadata": {},
   "outputs": [],
   "source": [
    "df_games['recomendaciones'] = df_games['id'].apply(recomendacion)"
   ]
  },
  {
   "cell_type": "code",
   "execution_count": 17,
   "metadata": {},
   "outputs": [
    {
     "data": {
      "text/html": [
       "<div>\n",
       "<style scoped>\n",
       "    .dataframe tbody tr th:only-of-type {\n",
       "        vertical-align: middle;\n",
       "    }\n",
       "\n",
       "    .dataframe tbody tr th {\n",
       "        vertical-align: top;\n",
       "    }\n",
       "\n",
       "    .dataframe thead th {\n",
       "        text-align: right;\n",
       "    }\n",
       "</style>\n",
       "<table border=\"1\" class=\"dataframe\">\n",
       "  <thead>\n",
       "    <tr style=\"text-align: right;\">\n",
       "      <th></th>\n",
       "      <th>specs</th>\n",
       "      <th>app_name</th>\n",
       "      <th>id</th>\n",
       "      <th>recomendaciones</th>\n",
       "    </tr>\n",
       "  </thead>\n",
       "  <tbody>\n",
       "    <tr>\n",
       "      <th>0</th>\n",
       "      <td>Single-player</td>\n",
       "      <td>Lost Summoner Kitty</td>\n",
       "      <td>761140</td>\n",
       "      <td>[弹炸人2222, Uncanny Islands, Beach Rules, Planet...</td>\n",
       "    </tr>\n",
       "    <tr>\n",
       "      <th>1</th>\n",
       "      <td>Single-player, Multi-player, Online Multi-Play...</td>\n",
       "      <td>Ironbound</td>\n",
       "      <td>643980</td>\n",
       "      <td>[Duelyst, Warhammer 40,000: Regicide, KROSMAGA...</td>\n",
       "    </tr>\n",
       "    <tr>\n",
       "      <th>2</th>\n",
       "      <td>Single-player, Multi-player, Online Multi-Play...</td>\n",
       "      <td>Real Pool 3D - Poolians</td>\n",
       "      <td>670290</td>\n",
       "      <td>[Heroes of Havoc: Idle Adventures, Tactical Mo...</td>\n",
       "    </tr>\n",
       "    <tr>\n",
       "      <th>3</th>\n",
       "      <td>Single-player</td>\n",
       "      <td>弹炸人2222</td>\n",
       "      <td>767400</td>\n",
       "      <td>[弹炸人2222, Uncanny Islands, Beach Rules, Planet...</td>\n",
       "    </tr>\n",
       "    <tr>\n",
       "      <th>4</th>\n",
       "      <td>Single-player, Full controller support, HTC Vi...</td>\n",
       "      <td>Log Challenge</td>\n",
       "      <td>773570</td>\n",
       "      <td>[Jam Session VR, The Trace, Caretaker Retribut...</td>\n",
       "    </tr>\n",
       "    <tr>\n",
       "      <th>...</th>\n",
       "      <td>...</td>\n",
       "      <td>...</td>\n",
       "      <td>...</td>\n",
       "      <td>...</td>\n",
       "    </tr>\n",
       "    <tr>\n",
       "      <th>32128</th>\n",
       "      <td>Single-player, Steam Achievements</td>\n",
       "      <td>Colony On Mars</td>\n",
       "      <td>773640</td>\n",
       "      <td>[Army of Tentacles: (Not) A Cthulhu Dating Sim...</td>\n",
       "    </tr>\n",
       "    <tr>\n",
       "      <th>32129</th>\n",
       "      <td>Single-player, Steam Achievements, Steam Cloud...</td>\n",
       "      <td>LOGistICAL: South Africa</td>\n",
       "      <td>733530</td>\n",
       "      <td>[Runespell: Overture, Rush for Glory, BoomTown...</td>\n",
       "    </tr>\n",
       "    <tr>\n",
       "      <th>32130</th>\n",
       "      <td>Single-player, Steam Achievements, Steam Tradi...</td>\n",
       "      <td>Russian Roads</td>\n",
       "      <td>610660</td>\n",
       "      <td>[Drawn®: The Painted Tower, Tropico 4, The Bin...</td>\n",
       "    </tr>\n",
       "    <tr>\n",
       "      <th>32131</th>\n",
       "      <td>Single-player, Steam Achievements, Steam Cloud</td>\n",
       "      <td>EXIT 2 - Directions</td>\n",
       "      <td>658870</td>\n",
       "      <td>[Fate of the World, Fate of the World: Tipping...</td>\n",
       "    </tr>\n",
       "    <tr>\n",
       "      <th>32132</th>\n",
       "      <td>Single-player, Stats, Steam Leaderboards, HTC ...</td>\n",
       "      <td>Maze Run VR</td>\n",
       "      <td>681550</td>\n",
       "      <td>[Maze Run VR, CyberThreat, Super Pixel Smash, ...</td>\n",
       "    </tr>\n",
       "  </tbody>\n",
       "</table>\n",
       "<p>32133 rows × 4 columns</p>\n",
       "</div>"
      ],
      "text/plain": [
       "                                                   specs  \\\n",
       "0                                          Single-player   \n",
       "1      Single-player, Multi-player, Online Multi-Play...   \n",
       "2      Single-player, Multi-player, Online Multi-Play...   \n",
       "3                                          Single-player   \n",
       "4      Single-player, Full controller support, HTC Vi...   \n",
       "...                                                  ...   \n",
       "32128                  Single-player, Steam Achievements   \n",
       "32129  Single-player, Steam Achievements, Steam Cloud...   \n",
       "32130  Single-player, Steam Achievements, Steam Tradi...   \n",
       "32131     Single-player, Steam Achievements, Steam Cloud   \n",
       "32132  Single-player, Stats, Steam Leaderboards, HTC ...   \n",
       "\n",
       "                       app_name      id  \\\n",
       "0           Lost Summoner Kitty  761140   \n",
       "1                     Ironbound  643980   \n",
       "2       Real Pool 3D - Poolians  670290   \n",
       "3                       弹炸人2222  767400   \n",
       "4                 Log Challenge  773570   \n",
       "...                         ...     ...   \n",
       "32128            Colony On Mars  773640   \n",
       "32129  LOGistICAL: South Africa  733530   \n",
       "32130             Russian Roads  610660   \n",
       "32131       EXIT 2 - Directions  658870   \n",
       "32132               Maze Run VR  681550   \n",
       "\n",
       "                                         recomendaciones  \n",
       "0      [弹炸人2222, Uncanny Islands, Beach Rules, Planet...  \n",
       "1      [Duelyst, Warhammer 40,000: Regicide, KROSMAGA...  \n",
       "2      [Heroes of Havoc: Idle Adventures, Tactical Mo...  \n",
       "3      [弹炸人2222, Uncanny Islands, Beach Rules, Planet...  \n",
       "4      [Jam Session VR, The Trace, Caretaker Retribut...  \n",
       "...                                                  ...  \n",
       "32128  [Army of Tentacles: (Not) A Cthulhu Dating Sim...  \n",
       "32129  [Runespell: Overture, Rush for Glory, BoomTown...  \n",
       "32130  [Drawn®: The Painted Tower, Tropico 4, The Bin...  \n",
       "32131  [Fate of the World, Fate of the World: Tipping...  \n",
       "32132  [Maze Run VR, CyberThreat, Super Pixel Smash, ...  \n",
       "\n",
       "[32133 rows x 4 columns]"
      ]
     },
     "execution_count": 17,
     "metadata": {},
     "output_type": "execute_result"
    }
   ],
   "source": [
    "df_games"
   ]
  },
  {
   "cell_type": "markdown",
   "metadata": {},
   "source": [
    "* elimino las columnas que ahora no son de interes para el modelo"
   ]
  },
  {
   "cell_type": "code",
   "execution_count": 18,
   "metadata": {},
   "outputs": [],
   "source": [
    "df_games.drop(columns=['app_name', 'specs'], inplace=True)"
   ]
  },
  {
   "cell_type": "code",
   "execution_count": 19,
   "metadata": {},
   "outputs": [
    {
     "name": "stdout",
     "output_type": "stream",
     "text": [
      "<class 'pandas.core.frame.DataFrame'>\n",
      "RangeIndex: 32133 entries, 0 to 32132\n",
      "Data columns (total 2 columns):\n",
      " #   Column           Non-Null Count  Dtype \n",
      "---  ------           --------------  ----- \n",
      " 0   id               32133 non-null  int32 \n",
      " 1   recomendaciones  32133 non-null  object\n",
      "dtypes: int32(1), object(1)\n",
      "memory usage: 376.7+ KB\n"
     ]
    }
   ],
   "source": [
    "df_games.info()"
   ]
  },
  {
   "cell_type": "markdown",
   "metadata": {},
   "source": [
    "* exporto en un nuevo archivo"
   ]
  },
  {
   "cell_type": "code",
   "execution_count": 21,
   "metadata": {},
   "outputs": [],
   "source": [
    "df_games.to_csv('games_ML.csv', index = False)"
   ]
  },
  {
   "cell_type": "code",
   "execution_count": 31,
   "metadata": {},
   "outputs": [],
   "source": [
    "df_games_ML = pd.read_csv(r'DataApi/games_ML.csv')"
   ]
  },
  {
   "cell_type": "code",
   "execution_count": 63,
   "metadata": {},
   "outputs": [],
   "source": [
    "def recomendacion_usuario(item_id):\n",
    "    # Filtrar el DataFrame por el id especificado\n",
    "    df_filtrado = df_games_ML[df_games_ML['id'] == item_id]\n",
    "\n",
    "    # Obtener la lista de recomendaciones\n",
    "    recomendaciones = df_filtrado['recomendaciones']\n",
    "\n",
    "    return print(*recomendaciones, sep='\\n')"
   ]
  },
  {
   "cell_type": "code",
   "execution_count": 65,
   "metadata": {},
   "outputs": [
    {
     "name": "stdout",
     "output_type": "stream",
     "text": [
      "['Dark Messiah of Might & Magic', 'Half-Life: Opposing Force', 'Counter-Strike: Condition Zero', 'Nether: Resurrected', 'Block N Load Theme Music']\n"
     ]
    }
   ],
   "source": [
    "recomendacion_usuario(50)"
   ]
  }
 ],
 "metadata": {
  "kernelspec": {
   "display_name": "PIMLOPSNCC",
   "language": "python",
   "name": "python3"
  },
  "language_info": {
   "codemirror_mode": {
    "name": "ipython",
    "version": 3
   },
   "file_extension": ".py",
   "mimetype": "text/x-python",
   "name": "python",
   "nbconvert_exporter": "python",
   "pygments_lexer": "ipython3",
   "version": "3.10.11"
  }
 },
 "nbformat": 4,
 "nbformat_minor": 2
}
