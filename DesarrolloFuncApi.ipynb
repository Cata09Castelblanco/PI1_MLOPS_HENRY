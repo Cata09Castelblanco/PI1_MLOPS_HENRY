{
 "cells": [
  {
   "cell_type": "markdown",
   "metadata": {},
   "source": [
    "### **<p align=\"center\">🚧 Desarrollo de funciones para API 🚧</p>**"
   ]
  },
  {
   "cell_type": "markdown",
   "metadata": {},
   "source": [
    "1) def **PlayTimeGenre**( genero : str ): Debe devolver año con mas horas jugadas para dicho género."
   ]
  },
  {
   "cell_type": "markdown",
   "metadata": {},
   "source": [
    "importacion de librerias necesarias:"
   ]
  },
  {
   "cell_type": "code",
   "execution_count": 1,
   "metadata": {},
   "outputs": [],
   "source": [
    "from fastapi import FastAPI, HTTPException\n",
    "import pandas as pd"
   ]
  },
  {
   "cell_type": "code",
   "execution_count": 5,
   "metadata": {},
   "outputs": [],
   "source": [
    "app = FastAPI()"
   ]
  },
  {
   "cell_type": "code",
   "execution_count": 7,
   "metadata": {},
   "outputs": [],
   "source": [
    "# Leer archivos Parquet\n",
    "df_gamesf1 = pd.read_parquet(r'DataApi/games_f1.parquet')\n"
   ]
  },
  {
   "cell_type": "code",
   "execution_count": 37,
   "metadata": {},
   "outputs": [],
   "source": [
    "df_itemsf1 = pd.read_parquet(r'DataApi/items_new.parquet')\n",
    "df_reviewsf1 = pd.read_parquet(r'DataApi/reviews_parquet')"
   ]
  },
  {
   "cell_type": "code",
   "execution_count": 3,
   "metadata": {},
   "outputs": [
    {
     "data": {
      "text/html": [
       "<div>\n",
       "<style scoped>\n",
       "    .dataframe tbody tr th:only-of-type {\n",
       "        vertical-align: middle;\n",
       "    }\n",
       "\n",
       "    .dataframe tbody tr th {\n",
       "        vertical-align: top;\n",
       "    }\n",
       "\n",
       "    .dataframe thead th {\n",
       "        text-align: right;\n",
       "    }\n",
       "</style>\n",
       "<table border=\"1\" class=\"dataframe\">\n",
       "  <thead>\n",
       "    <tr style=\"text-align: right;\">\n",
       "      <th></th>\n",
       "      <th>genres</th>\n",
       "      <th>release_date</th>\n",
       "      <th>id</th>\n",
       "    </tr>\n",
       "  </thead>\n",
       "  <tbody>\n",
       "    <tr>\n",
       "      <th>0</th>\n",
       "      <td>['Action', 'Casual', 'Indie', 'Simulation', 'S...</td>\n",
       "      <td>2018-01-04</td>\n",
       "      <td>761140.0</td>\n",
       "    </tr>\n",
       "  </tbody>\n",
       "</table>\n",
       "</div>"
      ],
      "text/plain": [
       "                                              genres release_date        id\n",
       "0  ['Action', 'Casual', 'Indie', 'Simulation', 'S...   2018-01-04  761140.0"
      ]
     },
     "execution_count": 3,
     "metadata": {},
     "output_type": "execute_result"
    }
   ],
   "source": [
    "df_gamesf1.head(1)"
   ]
  },
  {
   "cell_type": "code",
   "execution_count": 4,
   "metadata": {},
   "outputs": [
    {
     "name": "stdout",
     "output_type": "stream",
     "text": [
      "<class 'pandas.core.frame.DataFrame'>\n",
      "RangeIndex: 5153209 entries, 0 to 5153208\n",
      "Data columns (total 2 columns):\n",
      " #   Column            Dtype  \n",
      "---  ------            -----  \n",
      " 0   item_id           int32  \n",
      " 1   playtime_forever  float32\n",
      "dtypes: float32(1), int32(1)\n",
      "memory usage: 39.3 MB\n"
     ]
    }
   ],
   "source": [
    "df_itemsf1.info()"
   ]
  },
  {
   "cell_type": "code",
   "execution_count": 4,
   "metadata": {},
   "outputs": [],
   "source": [
    "def PlayTimeGenre(genero: str):\n",
    "    # Filtro el DataFrame df_games por el género especificado\n",
    "    df_filtrado = df_gamesf1[df_gamesf1['genres'].str.contains(genero, case=False, na=False)]\n",
    "\n",
    "    if not df_filtrado.empty:\n",
    "        # Uno df_filtrado con df_items en item_id para obtener las horas jugadas\n",
    "        df_merged = pd.merge(df_filtrado, df_itemsf1, left_on='id', right_on='item_id', how='inner')\n",
    "\n",
    "        # Encontrar el año con más horas jugadas para el género\n",
    "        año_max_horas = df_merged.groupby('release_date')['playtime_forever'].sum().idxmax()\n",
    "\n",
    "        return {\"Año de lanzamiento con más horas jugadas para género \" + genero: año_max_horas}\n",
    "    else:\n",
    "        return {\"mensaje\": \"No se encontraron juegos para el género especificado\"}"
   ]
  },
  {
   "cell_type": "code",
   "execution_count": 5,
   "metadata": {},
   "outputs": [
    {
     "data": {
      "text/plain": [
       "{'Año de lanzamiento con más horas jugadas para género Simulation': '2006-11-29'}"
      ]
     },
     "execution_count": 5,
     "metadata": {},
     "output_type": "execute_result"
    }
   ],
   "source": [
    "PlayTimeGenre('Simulation')"
   ]
  },
  {
   "cell_type": "code",
   "execution_count": 10,
   "metadata": {},
   "outputs": [],
   "source": [
    "# Endpoint para obtener el año con más horas jugadas para un género específico\n",
    "@app.get(\"/playtime_genre/{genero}\")\n",
    "async def get_playtime_genre(genero: str):\n",
    "    try:\n",
    "        return PlayTimeGenre(genero)\n",
    "    except Exception as e:\n",
    "        raise HTTPException(status_code=400, detail=str(e))"
   ]
  },
  {
   "cell_type": "markdown",
   "metadata": {},
   "source": [
    "2) def **UserForGenre**( genero : str ): Debe devolver el usuario que acumula más horas jugadas para el género dado y una lista de la acumulación de horas jugadas por año."
   ]
  },
  {
   "cell_type": "markdown",
   "metadata": {},
   "source": [
    "* realizo transformaciones necesarias para poder desarrollar la funcion:"
   ]
  },
  {
   "cell_type": "code",
   "execution_count": 38,
   "metadata": {},
   "outputs": [
    {
     "data": {
      "text/plain": [
       "0     2018-01-04\n",
       "1     2018-01-04\n",
       "2     2017-07-24\n",
       "3     2017-12-07\n",
       "4           None\n",
       "5     2018-01-04\n",
       "6     2018-01-04\n",
       "7     2018-01-04\n",
       "8     2018-01-04\n",
       "9     2018-01-04\n",
       "10        Soon..\n",
       "11          None\n",
       "12    2018-01-04\n",
       "13    2018-01-04\n",
       "14    2018-01-03\n",
       "15    2018-01-03\n",
       "16    2018-01-03\n",
       "17    2018-01-03\n",
       "18    2018-01-03\n",
       "19          None\n",
       "Name: release_date, dtype: object"
      ]
     },
     "execution_count": 38,
     "metadata": {},
     "output_type": "execute_result"
    }
   ],
   "source": [
    "\n",
    "df_gamesf1['release_date'].head(20)"
   ]
  },
  {
   "cell_type": "code",
   "execution_count": 39,
   "metadata": {},
   "outputs": [
    {
     "data": {
      "text/plain": [
       "0       2018-01-04\n",
       "1       2018-01-04\n",
       "2       2017-07-24\n",
       "3       2017-12-07\n",
       "4              NaT\n",
       "           ...    \n",
       "32130   2018-01-04\n",
       "32131   2018-01-04\n",
       "32132   2018-01-04\n",
       "32133   2017-09-02\n",
       "32134          NaT\n",
       "Name: release_date, Length: 32135, dtype: datetime64[ns]"
      ]
     },
     "execution_count": 39,
     "metadata": {},
     "output_type": "execute_result"
    }
   ],
   "source": [
    "# Convierte la columna 'release_date' a formato datetime\n",
    "pd.to_datetime(df_gamesf1['release_date'], errors='coerce')"
   ]
  },
  {
   "cell_type": "code",
   "execution_count": 40,
   "metadata": {},
   "outputs": [
    {
     "data": {
      "text/plain": [
       "2067"
      ]
     },
     "execution_count": 40,
     "metadata": {},
     "output_type": "execute_result"
    }
   ],
   "source": [
    "df_gamesf1['release_date'].isnull().sum()"
   ]
  },
  {
   "cell_type": "markdown",
   "metadata": {},
   "source": [
    "* leo el archivo que habia creado para la funcion: "
   ]
  },
  {
   "cell_type": "code",
   "execution_count": 41,
   "metadata": {},
   "outputs": [],
   "source": [
    "df_itemsf2 = pd.read_parquet(r'DataApi/items_f2.parquet')"
   ]
  },
  {
   "cell_type": "code",
   "execution_count": 7,
   "metadata": {},
   "outputs": [],
   "source": [
    "# df_gamesf1.dropna(subset = ['genres'], inplace= True)"
   ]
  },
  {
   "cell_type": "code",
   "execution_count": 8,
   "metadata": {},
   "outputs": [],
   "source": [
    "# df_gamesf1['genres']= df_gamesf1['genres'].apply(lambda x: ast.literal_eval(x))"
   ]
  },
  {
   "cell_type": "code",
   "execution_count": 58,
   "metadata": {},
   "outputs": [
    {
     "data": {
      "text/plain": [
       "104"
      ]
     },
     "execution_count": 58,
     "metadata": {},
     "output_type": "execute_result"
    }
   ],
   "source": [
    "# generos_unicos = df_gamesf1['genres'].explode().value_counts().nunique() # cantidad de generos que hay"
   ]
  },
  {
   "cell_type": "markdown",
   "metadata": {},
   "source": [
    "* reduzco el df de items para trabajar eficientemente ya que el consumo de memoria es alto:"
   ]
  },
  {
   "cell_type": "code",
   "execution_count": 47,
   "metadata": {},
   "outputs": [],
   "source": [
    "df_items_reducido = df_itemsf2[df_itemsf2['item_id'].isin(df_gamesf1['id'])]"
   ]
  },
  {
   "cell_type": "code",
   "execution_count": 53,
   "metadata": {},
   "outputs": [],
   "source": [
    "df_items_reducido.reset_index(drop=True, inplace=True)"
   ]
  },
  {
   "cell_type": "markdown",
   "metadata": {},
   "source": [
    "comparo el peso de los df items creado para ver cual es mas eficiente y trabajar con ese "
   ]
  },
  {
   "cell_type": "code",
   "execution_count": 60,
   "metadata": {},
   "outputs": [
    {
     "name": "stdout",
     "output_type": "stream",
     "text": [
      "<class 'pandas.core.frame.DataFrame'>\n",
      "RangeIndex: 4294257 entries, 0 to 4294256\n",
      "Data columns (total 3 columns):\n",
      " #   Column            Dtype  \n",
      "---  ------            -----  \n",
      " 0   item_id           int32  \n",
      " 1   playtime_forever  float32\n",
      " 2   user_id           object \n",
      "dtypes: float32(1), int32(1), object(1)\n",
      "memory usage: 65.5+ MB\n"
     ]
    }
   ],
   "source": [
    "df_items_reducido.info()"
   ]
  },
  {
   "cell_type": "code",
   "execution_count": 52,
   "metadata": {},
   "outputs": [
    {
     "name": "stdout",
     "output_type": "stream",
     "text": [
      "<class 'pandas.core.frame.DataFrame'>\n",
      "RangeIndex: 5153209 entries, 0 to 5153208\n",
      "Data columns (total 3 columns):\n",
      " #   Column            Dtype  \n",
      "---  ------            -----  \n",
      " 0   item_id           int32  \n",
      " 1   playtime_forever  float32\n",
      " 2   user_id           object \n",
      "dtypes: float32(1), int32(1), object(1)\n",
      "memory usage: 78.6+ MB\n"
     ]
    }
   ],
   "source": [
    "df_itemsf2.info()"
   ]
  },
  {
   "cell_type": "markdown",
   "metadata": {},
   "source": [
    "dado que df_items_reducido tiene menor peso procedo a trabajar con el en mi funcion a continuacion:"
   ]
  },
  {
   "cell_type": "code",
   "execution_count": null,
   "metadata": {},
   "outputs": [],
   "source": [
    "df_items_reducido = df_items_reducido.to_parquet('items_reducido.parquet')"
   ]
  },
  {
   "cell_type": "code",
   "execution_count": 3,
   "metadata": {},
   "outputs": [],
   "source": [
    "df_items_reducido = pd.read_parquet(r'DataApi/items_reducido.parquet')"
   ]
  },
  {
   "cell_type": "code",
   "execution_count": 5,
   "metadata": {},
   "outputs": [],
   "source": [
    "def UserForGenre(genero: str):\n",
    "    # Filtrar el DataFrame df_games por el género especificado\n",
    "    games_genre = df_gamesf1[df_gamesf1['genres'].str.contains(genero, case=False, na=False)]\n",
    "\n",
    "    if not games_genre.empty:\n",
    "        # Uno df_filtrado con df_items en item_id para obtener las horas jugadas y el usuario\n",
    "        df_merged = pd.merge(games_genre, df_items_reducido, left_on='id', right_on='item_id', how='inner')\n",
    "        # convierto en formato datetime la columna release_date\n",
    "        df_merged['release_date'] = pd.to_datetime(df_merged['release_date'], errors='coerce')\n",
    "\n",
    "        # Encontrar el usuario con más horas jugadas para el género\n",
    "        usuario_max_horas = df_merged.groupby('user_id')['playtime_forever'].sum().idxmax()\n",
    "        \n",
    "        # Filtrar df_merged por el usuario con más horas jugadas\n",
    "        df_usuario_max_horas = df_merged[df_merged['user_id'] == usuario_max_horas]\n",
    "\n",
    "        # Agrupar por año y sumar las horas jugadas\n",
    "        horas_por_año = df_usuario_max_horas.groupby(df_usuario_max_horas['release_date'].dt.year)['playtime_forever'].sum().reset_index()\n",
    "\n",
    "        # Crear la estructura de retorno\n",
    "        retorno = {\n",
    "            \"Usuario con más horas jugadas para género \" + genero: usuario_max_horas,\n",
    "            \"Horas jugadas\": [{\"Año\": int(año), \"Horas\": int(horas)} for año, horas in zip(horas_por_año['release_date'], horas_por_año['playtime_forever'])]\n",
    "        }\n",
    "\n",
    "        return retorno\n",
    "    else:\n",
    "        return {\"mensaje\": \"No se encontraron juegos para el género especificado\"}\n"
   ]
  },
  {
   "cell_type": "code",
   "execution_count": 8,
   "metadata": {},
   "outputs": [
    {
     "data": {
      "text/plain": [
       "{'Usuario con más horas jugadas para género Action': 'Sp3ctre',\n",
       " 'Horas jugadas': [{'Año': 1993, 'Horas': 0},\n",
       "  {'Año': 1995, 'Horas': 217},\n",
       "  {'Año': 1996, 'Horas': 0},\n",
       "  {'Año': 1998, 'Horas': 0},\n",
       "  {'Año': 1999, 'Horas': 44},\n",
       "  {'Año': 2000, 'Horas': 70644},\n",
       "  {'Año': 2001, 'Horas': 13},\n",
       "  {'Año': 2002, 'Horas': 238},\n",
       "  {'Año': 2003, 'Horas': 7673},\n",
       "  {'Año': 2004, 'Horas': 127411},\n",
       "  {'Año': 2005, 'Horas': 21339},\n",
       "  {'Año': 2006, 'Horas': 896},\n",
       "  {'Año': 2007, 'Horas': 112784},\n",
       "  {'Año': 2008, 'Horas': 224},\n",
       "  {'Año': 2009, 'Horas': 108326},\n",
       "  {'Año': 2010, 'Horas': 78083},\n",
       "  {'Año': 2011, 'Horas': 154896},\n",
       "  {'Año': 2012, 'Horas': 378296},\n",
       "  {'Año': 2013, 'Horas': 120461},\n",
       "  {'Año': 2014, 'Horas': 130691},\n",
       "  {'Año': 2015, 'Horas': 307511},\n",
       "  {'Año': 2016, 'Horas': 29576},\n",
       "  {'Año': 2017, 'Horas': 43327}]}"
      ]
     },
     "execution_count": 8,
     "metadata": {},
     "output_type": "execute_result"
    }
   ],
   "source": [
    "UserForGenre('Action')"
   ]
  },
  {
   "cell_type": "markdown",
   "metadata": {},
   "source": [
    "3) def **UsersRecommend**( año : int ): Devuelve el top 3 de juegos MÁS recomendados por usuarios para el año dado. (reviews.recommend = True y comentarios positivos/neutrales)"
   ]
  },
  {
   "cell_type": "code",
   "execution_count": 4,
   "metadata": {},
   "outputs": [],
   "source": [
    "df_games_f3 = pd.read_csv('df_games.csv')\n",
    "df_reviews_f3 = pd.read_csv('df_reviews.csv')"
   ]
  },
  {
   "cell_type": "code",
   "execution_count": 56,
   "metadata": {},
   "outputs": [],
   "source": [
    "def UsersRecommend(año: int):\n",
    "    # Unir los DataFrames de juegos y reseñas en 'id'\n",
    "    df_merged = pd.merge(df_games_f3, df_reviews_f3, left_on='id', right_on='item_id', how='inner')\n",
    "\n",
    "    # Filtrar por reseñas positivas y por el año especificado\n",
    "    df_filtered = df_merged[(df_merged['recommend'] == True) & (pd.to_datetime(df_merged['release_date'], errors= 'coerce').dt.year == año)]\n",
    "    \n",
    "    if not df_filtered.empty:\n",
    "        # Agrupar por juego y contar las recomendaciones\n",
    "        top_games = df_filtered.groupby('app_name')['recommend'].sum().reset_index()\n",
    "\n",
    "        # Ordenar de forma descendente y tomar los primeros 3\n",
    "        top_games = top_games.sort_values(by='recommend', ascending=False).head(3)\n",
    "\n",
    "        # Crear la estructura de retorno\n",
    "        retorno = [{\"Puesto {}\".format(i+1): juego} for i, juego in enumerate(top_games['app_name'])]\n",
    "\n",
    "        return retorno\n",
    "    else:\n",
    "        return {\"mensaje\": \"No hay juegos recomendados para el año especificado\"}\n"
   ]
  },
  {
   "cell_type": "code",
   "execution_count": 57,
   "metadata": {},
   "outputs": [
    {
     "data": {
      "text/plain": [
       "[{'Puesto 1': \"Sid Meier's Civilization® V\"},\n",
       " {'Puesto 2': 'Mount & Blade: Warband'},\n",
       " {'Puesto 3': 'Fallout: New Vegas'}]"
      ]
     },
     "execution_count": 57,
     "metadata": {},
     "output_type": "execute_result"
    }
   ],
   "source": [
    "UsersRecommend(2010)"
   ]
  },
  {
   "cell_type": "markdown",
   "metadata": {},
   "source": [
    "4) def **UsersNotRecommend**( año : int ): Devuelve el top 3 de juegos MENOS recomendados por usuarios para el año dado. (reviews.recommend = False y comentarios negativos)"
   ]
  },
  {
   "cell_type": "code",
   "execution_count": 10,
   "metadata": {},
   "outputs": [],
   "source": [
    "def UsersNotRecommend(año: int):\n",
    "    # Unir los DataFrames de juegos y reseñas en 'id'\n",
    "    df_merged = pd.merge(df_games_f3, df_reviews_f3, left_on='id', right_on='item_id', how='inner')\n",
    "\n",
    "    # Filtrar por reseñas negativas y por el año especificado\n",
    "    df_filtered = df_merged[(df_merged['recommend'] == False) & (df_merged['sentiment_analysis'] == 0) & \n",
    "                            (pd.to_datetime(df_merged['release_date'], errors= 'coerce').dt.year == año)]\n",
    "\n",
    "    if not df_filtered.empty:\n",
    "        # Agrupar por juego y contar las no recomendaciones\n",
    "        bottom_games = df_filtered.groupby('app_name')['recommend'].count().reset_index()\n",
    "\n",
    "        # Ordenar de forma ascendente y tomar los primeros 3\n",
    "        bottom_games = bottom_games.sort_values(by='recommend', ascending=True).head(3)\n",
    "\n",
    "        # Crear la estructura de retorno\n",
    "        retorno = [{\"Puesto {}\".format(i+1): juego} for i, juego in enumerate(bottom_games['app_name'])]\n",
    "\n",
    "        return retorno\n",
    "    else:\n",
    "        return {\"mensaje\": \"No hay juegos menos recomendados para el año especificado\"}"
   ]
  },
  {
   "cell_type": "code",
   "execution_count": 11,
   "metadata": {},
   "outputs": [
    {
     "data": {
      "text/plain": [
       "[{'Puesto 1': 'Mafia II'},\n",
       " {'Puesto 2': 'L.A. Noire'},\n",
       " {'Puesto 3': 'Lord of the Rings: War in the North'}]"
      ]
     },
     "execution_count": 11,
     "metadata": {},
     "output_type": "execute_result"
    }
   ],
   "source": [
    "UsersNotRecommend(2011)"
   ]
  },
  {
   "cell_type": "markdown",
   "metadata": {},
   "source": [
    "5) def **sentiment_analysis**( año : int ): Según el año de lanzamiento, se devuelve una lista con la cantidad de registros de reseñas de usuarios que se encuentren categorizados con un análisis de sentimiento."
   ]
  },
  {
   "cell_type": "code",
   "execution_count": 16,
   "metadata": {},
   "outputs": [],
   "source": [
    "def sentiment_analysis(año: int):\n",
    "    # uno DataFrame games y reviews en 'id'\n",
    "    df_merged = pd.merge(df_gamesf1, df_reviews_f3, left_on='id', right_on='item_id', how='inner')\n",
    "\n",
    "    # Filtrar por el año especificado\n",
    "    df_filtered = df_merged[pd.to_datetime(df_merged['release_date'], errors='coerce').dt.year == año]\n",
    "\n",
    "    if not df_filtered.empty:\n",
    "        # Contar registros según el análisis de sentimiento\n",
    "        sentiment_counts = df_filtered['sentiment_analysis'].value_counts().to_dict()\n",
    "\n",
    "        # Mapear los valores para tener las etiquetas correspondientes\n",
    "        sentiment_counts = {\n",
    "            \"Negative\": sentiment_counts.get(0, 0),\n",
    "            \"Neutral\": sentiment_counts.get(1, 0),\n",
    "            \"Positive\": sentiment_counts.get(2, 0)\n",
    "        }\n",
    "\n",
    "        return sentiment_counts\n",
    "    else:\n",
    "        return {\"mensaje\": \"No hay registros para el año especificado\"}"
   ]
  },
  {
   "cell_type": "code",
   "execution_count": 17,
   "metadata": {},
   "outputs": [
    {
     "data": {
      "text/plain": [
       "{'Negative': 462, 'Neutral': 716, 'Positive': 2232}"
      ]
     },
     "execution_count": 17,
     "metadata": {},
     "output_type": "execute_result"
    }
   ],
   "source": [
    "sentiment_analysis(2011)"
   ]
  }
 ],
 "metadata": {
  "kernelspec": {
   "display_name": "Python 3",
   "language": "python",
   "name": "python3"
  },
  "language_info": {
   "codemirror_mode": {
    "name": "ipython",
    "version": 3
   },
   "file_extension": ".py",
   "mimetype": "text/x-python",
   "name": "python",
   "nbconvert_exporter": "python",
   "pygments_lexer": "ipython3",
   "version": "3.10.11"
  }
 },
 "nbformat": 4,
 "nbformat_minor": 2
}
